{
 "metadata": {
  "name": "",
  "signature": "sha256:06b7fc6a1728a1c6c67fd7c5a66fddf9f456a41b4039705464d607872bdbfaf0"
 },
 "nbformat": 3,
 "nbformat_minor": 0,
 "worksheets": [
  {
   "cells": [
    {
     "cell_type": "raw",
     "metadata": {},
     "source": [
      "Goal: Process video data"
     ]
    },
    {
     "cell_type": "code",
     "collapsed": false,
     "input": [
      "import cv\n",
      "import cv2\n",
      "import os\n",
      "import random\n",
      "import numpy as np\n",
      "import math"
     ],
     "language": "python",
     "metadata": {},
     "outputs": [],
     "prompt_number": 1
    },
    {
     "cell_type": "code",
     "collapsed": false,
     "input": [
      "filename_mov = \"%s/data/run000/backright.MOV\" % os.getcwd()\n",
      "filename_backleft_mov = \"%s/data/run000/backleft.MOV\" % os.getcwd()\n",
      "filename_avi = \"%s/data/run000/backright.avi\" % os.getcwd()"
     ],
     "language": "python",
     "metadata": {},
     "outputs": [],
     "prompt_number": 126
    },
    {
     "cell_type": "code",
     "collapsed": false,
     "input": [
      "vc = cv2.VideoCapture(filename_mov)\n",
      "vc.isOpened()"
     ],
     "language": "python",
     "metadata": {},
     "outputs": [
      {
       "metadata": {},
       "output_type": "pyout",
       "prompt_number": 127,
       "text": [
        "True"
       ]
      }
     ],
     "prompt_number": 127
    },
    {
     "cell_type": "code",
     "collapsed": false,
     "input": [
      "def get_frame(i):\n",
      "    vc.set(cv.CV_CAP_PROP_POS_FRAMES, i)\n",
      "    ret, img = vc.read()\n",
      "    return img"
     ],
     "language": "python",
     "metadata": {},
     "outputs": [],
     "prompt_number": 108
    },
    {
     "cell_type": "code",
     "collapsed": false,
     "input": [
      "def set_frame(capture, i):\n",
      "    capture.set(cv.CV_CAP_PROP_POS_FRAMES, i)"
     ],
     "language": "python",
     "metadata": {},
     "outputs": [],
     "prompt_number": 109
    },
    {
     "cell_type": "code",
     "collapsed": false,
     "input": [
      "def show_frame(f):\n",
      "    cv2.imshow('detection', f)"
     ],
     "language": "python",
     "metadata": {},
     "outputs": [],
     "prompt_number": 110
    },
    {
     "cell_type": "code",
     "collapsed": false,
     "input": [
      "# cv2.namedWindow('detection', cv2.CV_WINDOW_AUTOSIZE)\n",
      "show_frame(get_frame(67))"
     ],
     "language": "python",
     "metadata": {},
     "outputs": [],
     "prompt_number": 7
    },
    {
     "cell_type": "code",
     "collapsed": false,
     "input": [
      "cam = cv2.VideoCapture(filename_mov)            \n",
      "while True:\n",
      "    ret, img = cam.read()                      \n",
      "    if (type(img) == type(None)):\n",
      "        break\n",
      "\n",
      "    cv2.imshow('detection', img)\n",
      "    if (0xFF & cv2.waitKey(20) == 27) or img.size == 0:\n",
      "        break"
     ],
     "language": "python",
     "metadata": {},
     "outputs": [],
     "prompt_number": 15
    },
    {
     "cell_type": "code",
     "collapsed": false,
     "input": [
      "cv2.destroyAllWindows()"
     ],
     "language": "python",
     "metadata": {},
     "outputs": [],
     "prompt_number": 8
    },
    {
     "cell_type": "code",
     "collapsed": false,
     "input": [
      "import numpy as np \n",
      "while True:\n",
      "    print \"here\"\n",
      "    ret, img = cam.read()  \n",
      "    gray = cv2.cvtColor(img,cv2.COLOR_BGR2GRAY)\n",
      "\n",
      "    gray = np.float32(gray)\n",
      "    dst = cv2.cornerHarris(gray,2,3,0.04)\n",
      "\n",
      "while(cap.isOpened()):\n",
      "    ret, frame = cap.read()\n",
      "    \n",
      "    if frame is None:\n",
      "        continue\n",
      "        \n",
      "    print \"yes!\"\n",
      "\n",
      "    gray = cv2.cvtColor(frame, cv2.COLOR_BGR2GRAY)\n",
      "\n",
      "    cv2.imshow('frame',gray)\n",
      "    if cv2.waitKey(1) & 0xFF == ord('q'):\n",
      "        break\n"
     ],
     "language": "python",
     "metadata": {},
     "outputs": [
      {
       "ename": "NameError",
       "evalue": "name 'cam' is not defined",
       "output_type": "pyerr",
       "traceback": [
        "\u001b[0;31m---------------------------------------------------------------------------\u001b[0m\n\u001b[0;31mNameError\u001b[0m                                 Traceback (most recent call last)",
        "\u001b[0;32m<ipython-input-12-677fa205133f>\u001b[0m in \u001b[0;36m<module>\u001b[0;34m()\u001b[0m\n\u001b[1;32m      2\u001b[0m \u001b[0;32mwhile\u001b[0m \u001b[0mTrue\u001b[0m\u001b[0;34m:\u001b[0m\u001b[0;34m\u001b[0m\u001b[0m\n\u001b[1;32m      3\u001b[0m     \u001b[0;32mprint\u001b[0m \u001b[0;34m\"here\"\u001b[0m\u001b[0;34m\u001b[0m\u001b[0m\n\u001b[0;32m----> 4\u001b[0;31m     \u001b[0mret\u001b[0m\u001b[0;34m,\u001b[0m \u001b[0mimg\u001b[0m \u001b[0;34m=\u001b[0m \u001b[0mcam\u001b[0m\u001b[0;34m.\u001b[0m\u001b[0mread\u001b[0m\u001b[0;34m(\u001b[0m\u001b[0;34m)\u001b[0m\u001b[0;34m\u001b[0m\u001b[0m\n\u001b[0m\u001b[1;32m      5\u001b[0m     \u001b[0mgray\u001b[0m \u001b[0;34m=\u001b[0m \u001b[0mcv2\u001b[0m\u001b[0;34m.\u001b[0m\u001b[0mcvtColor\u001b[0m\u001b[0;34m(\u001b[0m\u001b[0mimg\u001b[0m\u001b[0;34m,\u001b[0m\u001b[0mcv2\u001b[0m\u001b[0;34m.\u001b[0m\u001b[0mCOLOR_BGR2GRAY\u001b[0m\u001b[0;34m)\u001b[0m\u001b[0;34m\u001b[0m\u001b[0m\n\u001b[1;32m      6\u001b[0m \u001b[0;34m\u001b[0m\u001b[0m\n",
        "\u001b[0;31mNameError\u001b[0m: name 'cam' is not defined"
       ]
      },
      {
       "output_type": "stream",
       "stream": "stdout",
       "text": [
        "here\n"
       ]
      }
     ],
     "prompt_number": 12
    },
    {
     "cell_type": "code",
     "collapsed": false,
     "input": [
      "import cv2\n",
      "capture = cv2.VideoCapture(filename)\n",
      "while True:\n",
      "    ret, img = capture.read()\n",
      "\n",
      "#    result = processFrame(img)\n",
      "\n",
      "    cv2.imshow('some', result)\n",
      "    if 0xFF & cv2.waitKey(5) == 27:\n",
      "        break\n",
      "cv2.destroyAllWindows()"
     ],
     "language": "python",
     "metadata": {},
     "outputs": []
    },
    {
     "cell_type": "code",
     "collapsed": false,
     "input": [
      "cap = cv2.VideoCapture(filename_mov)\n",
      "\n",
      "ret, frame1 = cap.read()\n",
      "prvs = cv2.cvtColor(frame1,cv2.COLOR_BGR2GRAY)\n",
      "hsv = np.zeros_like(frame1)\n",
      "hsv[...,1] = 255"
     ],
     "language": "python",
     "metadata": {},
     "outputs": [],
     "prompt_number": 14
    },
    {
     "cell_type": "code",
     "collapsed": false,
     "input": [
      "cv2.destroyAllWindows()\n",
      "cap.set(cv.CV_CAP_PROP_POS_FRAMES, 100)\n",
      "\n",
      "while(1):\n",
      "    ret, frame2 = cap.read()\n",
      "    next = cv2.cvtColor(frame2,cv2.COLOR_BGR2GRAY)\n",
      "    edges = cv2.Canny(next, 10, 100)\n",
      "    cv2.imshow('frame', edges)\n",
      "\n",
      "    k = cv2.waitKey(30) & 0xff\n",
      "    if k == 27:\n",
      "        cv2.destroyAllWindows()\n",
      "        break\n",
      "    elif k == ord('s'):\n",
      "        cv2.imwrite('cannyframe2.png',frame2)\n",
      "        cv2.imwrite('cannyrgb.png',rgb)\n",
      "        "
     ],
     "language": "python",
     "metadata": {},
     "outputs": [],
     "prompt_number": 9
    },
    {
     "cell_type": "code",
     "collapsed": false,
     "input": [
      "cap = cv2.VideoCapture(filename_mov)\n",
      "set_frame(cap, 100)\n",
      "ret, frame1 = cap.read()\n",
      "prvs = cv2.cvtColor(frame1,cv2.COLOR_BGR2GRAY)\n",
      "hsv = np.zeros_like(frame1)\n",
      "hsv[...,1] = 255"
     ],
     "language": "python",
     "metadata": {},
     "outputs": [],
     "prompt_number": 9
    },
    {
     "cell_type": "code",
     "collapsed": false,
     "input": [
      "cap = cv2.VideoCapture(filename_mov)\n",
      "set_frame(cap, 100)\n",
      "\n",
      "ret, frame1 = cap.read()\n",
      "prvs = cv2.cvtColor(frame1,cv2.COLOR_BGR2GRAY)\n",
      "hsv = np.zeros_like(frame1)\n",
      "hsv[...,1] = 255\n",
      "\n",
      "while(1):\n",
      "    ret, frame2 = cap.read()\n",
      "    next = cv2.cvtColor(frame2,cv2.COLOR_BGR2GRAY)\n",
      "\n",
      "    flow = cv2.calcOpticalFlowFarneback(prvs, next, 0.7, 1, 3, 5, 3, 5, 1, 0)\n",
      "\n",
      "    mag, ang = cv2.cartToPolar(flow[...,0], flow[...,1])\n",
      "    hsv[...,0] = ang*180/np.pi/2\n",
      "    hsv[...,2] = cv2.normalize(mag,None,0,255,cv2.NORM_MINMAX)\n",
      "    rgb = cv2.cvtColor(hsv,cv2.COLOR_HSV2BGR)\n",
      "\n",
      "    cv2.imshow('frame2',rgb)\n",
      "    k = cv2.waitKey(30) & 0xFF\n",
      "    print k\n",
      "    if k == 27:\n",
      "        print \"ENDED\"\n",
      "        cv2.destroyAllWindows()\n",
      "        break\n",
      "    elif k == ord('s'):\n",
      "        cv2.imwrite('opticalfb.png',frame2)\n",
      "        cv2.imwrite('opticalhsv.png',rgb)\n",
      "    prvs = next"
     ],
     "language": "python",
     "metadata": {},
     "outputs": [
      {
       "output_type": "stream",
       "stream": "stdout",
       "text": [
        "255\n",
        "255"
       ]
      },
      {
       "output_type": "stream",
       "stream": "stdout",
       "text": [
        "\n",
        "27"
       ]
      },
      {
       "output_type": "stream",
       "stream": "stdout",
       "text": [
        "\n",
        "ENDED\n"
       ]
      }
     ],
     "prompt_number": 12
    },
    {
     "cell_type": "code",
     "collapsed": false,
     "input": [
      "cap = cv2.VideoCapture(filename_mov)\n",
      "set_frame(cap, 100)\n",
      "\n",
      "def get_optical_flow(prev, next):\n",
      "    prvs = cv2.cvtColor(frame1,cv2.COLOR_BGR2GRAY)\n",
      "    hsv = np.zeros_like(frame1)\n",
      "    hsv[...,1] = 255\n",
      "    next = cv2.cvtColor(frame2,cv2.COLOR_BGR2GRAY)\n",
      "\n",
      "    flow = cv2.calcOpticalFlowFarneback(prvs, next, 0.7, 1, 3, 5, 3, 5, 1, 0)\n",
      "\n",
      "    mag, ang = cv2.cartToPolar(flow[...,0], flow[...,1])\n",
      "    hsv[...,0] = ang*180/np.pi/2\n",
      "    hsv[...,2] = cv2.normalize(mag,None,0,255,cv2.NORM_MINMAX)\n",
      "    bgr = cv2.cvtColor(hsv,cv2.COLOR_HSV2BGR)\n",
      "    grey = cv2.cvtColor(bgr, cv2.COLOR_BGR2GRAY)\n",
      "    ret,thresh = cv2.threshold(grey,5,255,0)\n",
      "    return thresh\n",
      "#prev = get_frame(100)\n",
      "#next = get_frame(101)\n",
      "#cv2.imshow('frame',get_optical_flow(prev, next))"
     ],
     "language": "python",
     "metadata": {},
     "outputs": [],
     "prompt_number": 7
    },
    {
     "cell_type": "code",
     "collapsed": false,
     "input": [
      "import numpy as np\n",
      "import cv2\n",
      "\n",
      "cap = cv2.VideoCapture(filename_mov)\n",
      "\n",
      "# params for ShiTomasi corner detection\n",
      "feature_params = dict( maxCorners = 100,\n",
      "                       qualityLevel = 0.3,\n",
      "                       minDistance = 7,\n",
      "                       blockSize = 7 )\n",
      "\n",
      "# Parameters for lucas kanade optical flow\n",
      "lk_params = dict( winSize  = (15,15),\n",
      "                  maxLevel = 2,\n",
      "                  criteria = (cv2.TERM_CRITERIA_EPS | cv2.TERM_CRITERIA_COUNT, 10, 0.03))\n",
      "\n",
      "# Create some random colors\n",
      "color = np.random.randint(0,255,(100,3))\n",
      "\n",
      "# Take first frame and find corners in it\n",
      "ret, old_frame = cap.read()\n",
      "old_gray = cv2.cvtColor(old_frame, cv2.COLOR_BGR2GRAY)\n",
      "# p0 = cv2.goodFeaturesToTrack(old_gray, mask = None, **feature_params)\n",
      "p0 = np.array([[[x,y]] for x in range(500,1000,40) for y in range(500,1000,40)])\n",
      "p0 = np.array([[[50,50]],[[100,200]],[[300,100]]])\n",
      "draw_points(p0, old_frame, True)"
     ],
     "language": "python",
     "metadata": {},
     "outputs": [
      {
       "ename": "NameError",
       "evalue": "name 'draw_points' is not defined",
       "output_type": "pyerr",
       "traceback": [
        "\u001b[0;31m---------------------------------------------------------------------------\u001b[0m\n\u001b[0;31mNameError\u001b[0m                                 Traceback (most recent call last)",
        "\u001b[0;32m<ipython-input-84-ac94f4eb7405>\u001b[0m in \u001b[0;36m<module>\u001b[0;34m()\u001b[0m\n\u001b[1;32m     24\u001b[0m \u001b[0mp0\u001b[0m \u001b[0;34m=\u001b[0m \u001b[0mnp\u001b[0m\u001b[0;34m.\u001b[0m\u001b[0marray\u001b[0m\u001b[0;34m(\u001b[0m\u001b[0;34m[\u001b[0m\u001b[0;34m[\u001b[0m\u001b[0;34m[\u001b[0m\u001b[0mx\u001b[0m\u001b[0;34m,\u001b[0m\u001b[0my\u001b[0m\u001b[0;34m]\u001b[0m\u001b[0;34m]\u001b[0m \u001b[0;32mfor\u001b[0m \u001b[0mx\u001b[0m \u001b[0;32min\u001b[0m \u001b[0mrange\u001b[0m\u001b[0;34m(\u001b[0m\u001b[0;36m500\u001b[0m\u001b[0;34m,\u001b[0m\u001b[0;36m1000\u001b[0m\u001b[0;34m,\u001b[0m\u001b[0;36m40\u001b[0m\u001b[0;34m)\u001b[0m \u001b[0;32mfor\u001b[0m \u001b[0my\u001b[0m \u001b[0;32min\u001b[0m \u001b[0mrange\u001b[0m\u001b[0;34m(\u001b[0m\u001b[0;36m500\u001b[0m\u001b[0;34m,\u001b[0m\u001b[0;36m1000\u001b[0m\u001b[0;34m,\u001b[0m\u001b[0;36m40\u001b[0m\u001b[0;34m)\u001b[0m\u001b[0;34m]\u001b[0m\u001b[0;34m)\u001b[0m\u001b[0;34m\u001b[0m\u001b[0m\n\u001b[1;32m     25\u001b[0m \u001b[0mp0\u001b[0m \u001b[0;34m=\u001b[0m \u001b[0mnp\u001b[0m\u001b[0;34m.\u001b[0m\u001b[0marray\u001b[0m\u001b[0;34m(\u001b[0m\u001b[0;34m[\u001b[0m\u001b[0;34m[\u001b[0m\u001b[0;34m[\u001b[0m\u001b[0;36m50\u001b[0m\u001b[0;34m,\u001b[0m\u001b[0;36m50\u001b[0m\u001b[0;34m]\u001b[0m\u001b[0;34m]\u001b[0m\u001b[0;34m,\u001b[0m\u001b[0;34m[\u001b[0m\u001b[0;34m[\u001b[0m\u001b[0;36m100\u001b[0m\u001b[0;34m,\u001b[0m\u001b[0;36m200\u001b[0m\u001b[0;34m]\u001b[0m\u001b[0;34m]\u001b[0m\u001b[0;34m,\u001b[0m\u001b[0;34m[\u001b[0m\u001b[0;34m[\u001b[0m\u001b[0;36m300\u001b[0m\u001b[0;34m,\u001b[0m\u001b[0;36m100\u001b[0m\u001b[0;34m]\u001b[0m\u001b[0;34m]\u001b[0m\u001b[0;34m]\u001b[0m\u001b[0;34m)\u001b[0m\u001b[0;34m\u001b[0m\u001b[0m\n\u001b[0;32m---> 26\u001b[0;31m \u001b[0mdraw_points\u001b[0m\u001b[0;34m(\u001b[0m\u001b[0mp0\u001b[0m\u001b[0;34m,\u001b[0m \u001b[0mold_frame\u001b[0m\u001b[0;34m,\u001b[0m \u001b[0mTrue\u001b[0m\u001b[0;34m)\u001b[0m\u001b[0;34m\u001b[0m\u001b[0m\n\u001b[0m",
        "\u001b[0;31mNameError\u001b[0m: name 'draw_points' is not defined"
       ]
      }
     ],
     "prompt_number": 84
    },
    {
     "cell_type": "code",
     "collapsed": false,
     "input": [
      "# Create a mask image for drawing purposes\n",
      "mask = np.zeros_like(old_frame)\n",
      "\n",
      "while(1):\n",
      "    ret,frame = cap.read()\n",
      "    frame_gray = cv2.cvtColor(frame, cv2.COLOR_BGR2GRAY)\n",
      "\n",
      "    # calculate optical flow\n",
      "    p1, st, err = cv2.calcOpticalFlowPyrLK(old_gray, frame_gray, p0, None, **lk_params)\n",
      "    print p1\n",
      "    \n",
      "\n",
      "    # Select good points\n",
      "    good_new = p1[st==1]\n",
      "    good_old = p0[st==1]\n",
      "\n",
      "    # draw the tracks\n",
      "    for i,(new,old) in enumerate(zip(good_new,good_old)):\n",
      "        a,b = new.ravel()\n",
      "        c,d = old.ravel()\n",
      "        cv2.line(mask, (a,b),(c,d), color[i].tolist(), 2)\n",
      "        cv2.circle(frame,(a,b),5,color[i].tolist(),-1)\n",
      "    img = cv2.add(frame,mask)\n",
      "    \n",
      "    print img\n",
      "\n",
      "    cv2.imshow('frame',img)\n",
      "    k = cv2.waitKey(30) & 0xff\n",
      "    if k == 27:\n",
      "        break\n",
      "\n",
      "    # Now update the previous frame and previous points\n",
      "    old_gray = frame_gray.copy()\n",
      "    p0 = good_new.reshape(-1,1,2)\n",
      "\n",
      "cv2.destroyAllWindows()\n",
      "cap.release()"
     ],
     "language": "python",
     "metadata": {},
     "outputs": [
      {
       "ename": "error",
       "evalue": "/tmp/opencv-x9eh/opencv-2.4.8.2/modules/video/src/lkpyramid.cpp:593: error: (-215) (npoints = prevPtsMat.checkVector(2, CV_32F, true)) >= 0 in function calcOpticalFlowPyrLK\n",
       "output_type": "pyerr",
       "traceback": [
        "\u001b[0;31m---------------------------------------------------------------------------\u001b[0m\n\u001b[0;31merror\u001b[0m                                     Traceback (most recent call last)",
        "\u001b[0;32m<ipython-input-121-e3a9fc6a9fd5>\u001b[0m in \u001b[0;36m<module>\u001b[0;34m()\u001b[0m\n\u001b[1;32m      7\u001b[0m \u001b[0;34m\u001b[0m\u001b[0m\n\u001b[1;32m      8\u001b[0m     \u001b[0;31m# calculate optical flow\u001b[0m\u001b[0;34m\u001b[0m\u001b[0;34m\u001b[0m\u001b[0m\n\u001b[0;32m----> 9\u001b[0;31m     \u001b[0mp1\u001b[0m\u001b[0;34m,\u001b[0m \u001b[0mst\u001b[0m\u001b[0;34m,\u001b[0m \u001b[0merr\u001b[0m \u001b[0;34m=\u001b[0m \u001b[0mcv2\u001b[0m\u001b[0;34m.\u001b[0m\u001b[0mcalcOpticalFlowPyrLK\u001b[0m\u001b[0;34m(\u001b[0m\u001b[0mold_gray\u001b[0m\u001b[0;34m,\u001b[0m \u001b[0mframe_gray\u001b[0m\u001b[0;34m,\u001b[0m \u001b[0mp0\u001b[0m\u001b[0;34m,\u001b[0m \u001b[0mNone\u001b[0m\u001b[0;34m,\u001b[0m \u001b[0;34m**\u001b[0m\u001b[0mlk_params\u001b[0m\u001b[0;34m)\u001b[0m\u001b[0;34m\u001b[0m\u001b[0m\n\u001b[0m\u001b[1;32m     10\u001b[0m     \u001b[0;32mprint\u001b[0m \u001b[0mp1\u001b[0m\u001b[0;34m\u001b[0m\u001b[0m\n\u001b[1;32m     11\u001b[0m \u001b[0;34m\u001b[0m\u001b[0m\n",
        "\u001b[0;31merror\u001b[0m: /tmp/opencv-x9eh/opencv-2.4.8.2/modules/video/src/lkpyramid.cpp:593: error: (-215) (npoints = prevPtsMat.checkVector(2, CV_32F, true)) >= 0 in function calcOpticalFlowPyrLK\n"
       ]
      }
     ],
     "prompt_number": 121
    },
    {
     "cell_type": "code",
     "collapsed": false,
     "input": [
      "cv2.destroyAllWindows()\n",
      "f = open('DATA-FILE.txt', 'a')\n"
     ],
     "language": "python",
     "metadata": {},
     "outputs": [],
     "prompt_number": 22
    },
    {
     "cell_type": "code",
     "collapsed": false,
     "input": [
      "def draw_points(p0, img, show=False):\n",
      "    img_with_points = img.copy()\n",
      "    for pt in p0:\n",
      "        a,b = tuple(pt[0])\n",
      "        cv2.circle(img_with_points, (int(a), int(b)), 10, (0,0,100), -1)\n",
      "    if show:\n",
      "        cv2.imshow('frame', img_with_points)\n",
      "    return img_with_points"
     ],
     "language": "python",
     "metadata": {},
     "outputs": [],
     "prompt_number": 8
    },
    {
     "cell_type": "code",
     "collapsed": false,
     "input": [
      "image = get_frame(100)\n",
      "hsv = cv2.cvtColor(image, cv2.COLOR_BGR2HSV)\n",
      "\n",
      "# mouse callback function\n",
      "def print_points(event,x,y,flags,param):\n",
      "    if event == cv2.EVENT_LBUTTONDOWN:\n",
      "        #f.write(\"%d %d\\n\"%(x,y))\n",
      "        print image[x][y]\n",
      "# Click point on frame to log it. \n",
      "def click_frame(i):\n",
      "   # f.write(\"Clicking Frame %d\\n\"%i)\n",
      "    cv2.namedWindow('image')\n",
      "    cv2.setMouseCallback('image', print_points)\n",
      "\n",
      "    while(1):\n",
      "        cv2.imshow('image', get_frame(i))\n",
      "        k = cv2.waitKey(-1) & 0xFF \n",
      "        if k == 27:\n",
      "            cv2.destroyAllWindows()\n",
      "            return True\n",
      "        elif k == 13:\n",
      "            cv2.destroyAllWindows()\n",
      "            return False\n",
      "click_frame(100)"
     ],
     "language": "python",
     "metadata": {},
     "outputs": [
      {
       "metadata": {},
       "output_type": "pyout",
       "prompt_number": 14,
       "text": [
        "True"
       ]
      }
     ],
     "prompt_number": 14
    },
    {
     "cell_type": "code",
     "collapsed": false,
     "input": [
      "f = open('DATA-FILE.txt', 'a')\n",
      "for i in range(250, 1000):\n",
      "    if click_frame(i):\n",
      "        break\n",
      "f.close()"
     ],
     "language": "python",
     "metadata": {},
     "outputs": [],
     "prompt_number": 43
    },
    {
     "cell_type": "code",
     "collapsed": false,
     "input": [
      "#Don't know what this stuff is but it's cool. Potentially more features. \n",
      "from matplotlib import pyplot as plt\n",
      "\n",
      "img = get_frame(100)\n",
      "img = cv2.cvtColor(img,cv2.COLOR_BGR2RGB)\n",
      "\n",
      "laplacian = cv2.Laplacian(img,cv2.CV_64F)\n",
      "sobelx = cv2.Sobel(img,cv2.CV_64F,1,0,ksize=5)\n",
      "sobely = cv2.Sobel(img,cv2.CV_64F,0,1,ksize=5)\n",
      "\n",
      "plt.subplot(2,2,1),plt.imshow(img,cmap = 'gray')\n",
      "plt.title('Original'), plt.xticks([]), plt.yticks([])\n",
      "plt.subplot(2,2,2),plt.imshow(laplacian,cmap = 'gray')\n",
      "plt.title('Laplacian'), plt.xticks([]), plt.yticks([])\n",
      "plt.subplot(2,2,3),plt.imshow(sobelx,cmap = 'gray')\n",
      "plt.title('Sobel X'), plt.xticks([]), plt.yticks([])\n",
      "plt.subplot(2,2,4),plt.imshow(sobely,cmap = 'gray')\n",
      "plt.title('Sobel Y'), plt.xticks([]), plt.yticks([])\n",
      "\n",
      "plt.show()"
     ],
     "language": "python",
     "metadata": {},
     "outputs": [],
     "prompt_number": 11
    },
    {
     "cell_type": "code",
     "collapsed": false,
     "input": [
      "def distsq_between(p1, p2):\n",
      "    x1, y1 = p1\n",
      "    x2, y2 = p2\n",
      "    return (x1-x2)**2 + (y1-y2)**2\n",
      "\n",
      "def inbounds(p, img):\n",
      "    x, y = p\n",
      "    return x >= 0 and y >= 0 and x < img.shape[0] and y < img.shape[1]\n",
      "\n",
      "def get_points_in_radius(p1, r, img):\n",
      "    x1, y1 = p1\n",
      "    height, width = img.shape[:2]\n",
      "    return [(x,y) for x in xrange(x1-r, x1+r+1) for y in xrange(y1-r,y1+r+1) \n",
      "                  if distsq_between((x,y), p1) < r**2 and inbounds((x,y), img)]\n",
      "        \n",
      "def get_average_color(p1, r, img):\n",
      "    return np.mean([img[point] for point in get_points_in_radius(p1, r, img)], axis=0)"
     ],
     "language": "python",
     "metadata": {},
     "outputs": [],
     "prompt_number": 9
    },
    {
     "cell_type": "code",
     "collapsed": false,
     "input": [
      "img = get_frame(100)\n",
      "color = get_average_color((148, 480), int(math.sqrt(distsq_between((148, 480),(304, 488)))) , get_frame(100))\n",
      "\n"
     ],
     "language": "python",
     "metadata": {},
     "outputs": [
      {
       "metadata": {},
       "output_type": "pyout",
       "prompt_number": 57,
       "text": [
        "[0, 1, 2, 3, 4, 5, 6, 7, 8, 9]"
       ]
      }
     ],
     "prompt_number": 57
    },
    {
     "cell_type": "code",
     "collapsed": false,
     "input": [
      "img = get_frame(100)\n",
      "width, height = img.shape[:2]\n",
      "color = get_average_color((148, 480), int(math.sqrt(distsq_between((148, 480),(304, 488)))) , get_frame(100))\n",
      "#hsv = np.ones_like(img)\n",
      "#hsv = hsv*color\n",
      "image = np.array([[]])\n",
      "for i in range(0, height):\n",
      "    a = np.array([[]])\n",
      "    for j in range(0, height):\n",
      "        if(np.linalg.norm(img[i][j] - color) > 10):\n",
      "            a = np.concatenate(a, np.array([[0,0,0]]))\n",
      "            print a\n",
      "        else:\n",
      "            a = np.append(a, np.array([0,0,0]))\n",
      "    image = np.append(image, a)\n",
      "show_frame(image)"
     ],
     "language": "python",
     "metadata": {},
     "outputs": [
      {
       "ename": "TypeError",
       "evalue": "only length-1 arrays can be converted to Python scalars",
       "output_type": "pyerr",
       "traceback": [
        "\u001b[0;31m---------------------------------------------------------------------------\u001b[0m\n\u001b[0;31mTypeError\u001b[0m                                 Traceback (most recent call last)",
        "\u001b[0;32m<ipython-input-38-14929f49f75e>\u001b[0m in \u001b[0;36m<module>\u001b[0;34m()\u001b[0m\n\u001b[1;32m      9\u001b[0m     \u001b[0;32mfor\u001b[0m \u001b[0mj\u001b[0m \u001b[0;32min\u001b[0m \u001b[0mrange\u001b[0m\u001b[0;34m(\u001b[0m\u001b[0;36m0\u001b[0m\u001b[0;34m,\u001b[0m \u001b[0mheight\u001b[0m\u001b[0;34m)\u001b[0m\u001b[0;34m:\u001b[0m\u001b[0;34m\u001b[0m\u001b[0m\n\u001b[1;32m     10\u001b[0m         \u001b[0;32mif\u001b[0m\u001b[0;34m(\u001b[0m\u001b[0mnp\u001b[0m\u001b[0;34m.\u001b[0m\u001b[0mlinalg\u001b[0m\u001b[0;34m.\u001b[0m\u001b[0mnorm\u001b[0m\u001b[0;34m(\u001b[0m\u001b[0mimg\u001b[0m\u001b[0;34m[\u001b[0m\u001b[0mi\u001b[0m\u001b[0;34m]\u001b[0m\u001b[0;34m[\u001b[0m\u001b[0mj\u001b[0m\u001b[0;34m]\u001b[0m \u001b[0;34m-\u001b[0m \u001b[0mcolor\u001b[0m\u001b[0;34m)\u001b[0m \u001b[0;34m>\u001b[0m \u001b[0;36m10\u001b[0m\u001b[0;34m)\u001b[0m\u001b[0;34m:\u001b[0m\u001b[0;34m\u001b[0m\u001b[0m\n\u001b[0;32m---> 11\u001b[0;31m             \u001b[0ma\u001b[0m \u001b[0;34m=\u001b[0m \u001b[0mnp\u001b[0m\u001b[0;34m.\u001b[0m\u001b[0mconcatenate\u001b[0m\u001b[0;34m(\u001b[0m\u001b[0ma\u001b[0m\u001b[0;34m,\u001b[0m \u001b[0mnp\u001b[0m\u001b[0;34m.\u001b[0m\u001b[0marray\u001b[0m\u001b[0;34m(\u001b[0m\u001b[0;34m[\u001b[0m\u001b[0;34m[\u001b[0m\u001b[0;36m0\u001b[0m\u001b[0;34m,\u001b[0m\u001b[0;36m0\u001b[0m\u001b[0;34m,\u001b[0m\u001b[0;36m0\u001b[0m\u001b[0;34m]\u001b[0m\u001b[0;34m]\u001b[0m\u001b[0;34m)\u001b[0m\u001b[0;34m)\u001b[0m\u001b[0;34m\u001b[0m\u001b[0m\n\u001b[0m\u001b[1;32m     12\u001b[0m             \u001b[0;32mprint\u001b[0m \u001b[0ma\u001b[0m\u001b[0;34m\u001b[0m\u001b[0m\n\u001b[1;32m     13\u001b[0m         \u001b[0;32melse\u001b[0m\u001b[0;34m:\u001b[0m\u001b[0;34m\u001b[0m\u001b[0m\n",
        "\u001b[0;31mTypeError\u001b[0m: only length-1 arrays can be converted to Python scalars"
       ]
      }
     ],
     "prompt_number": 38
    },
    {
     "cell_type": "code",
     "collapsed": false,
     "input": [
      "print get_average_color((148, 480), int(math.sqrt(distsq_between((148, 480),(304, 488)))) , get_frame(100))\n",
      "print get_average_color((208, 485), int(math.sqrt(distsq_between((208, 485),(351, 488)))) , get_frame(101))\n"
     ],
     "language": "python",
     "metadata": {},
     "outputs": [
      {
       "output_type": "stream",
       "stream": "stdout",
       "text": [
        "[  57.84134843   80.16901501  110.50061891]\n",
        "[  61.50622303   83.8635606   115.6559185 ]"
       ]
      },
      {
       "output_type": "stream",
       "stream": "stdout",
       "text": [
        "\n",
        "[ 52.13618279  67.37592361  96.73820621]"
       ]
      },
      {
       "output_type": "stream",
       "stream": "stdout",
       "text": [
        "\n"
       ]
      }
     ],
     "prompt_number": 84
    },
    {
     "cell_type": "code",
     "collapsed": false,
     "input": [
      "img = get_frame(100)\n",
      "for p in get_points_in_radius((0,0),5,img):\n",
      "    print img[p]"
     ],
     "language": "python",
     "metadata": {},
     "outputs": [
      {
       "output_type": "stream",
       "stream": "stdout",
       "text": [
        "[13 41 70]\n",
        "[15 43 72]\n",
        "[28 41 74]\n",
        "[28 41 74]\n",
        "[41 41 78]\n",
        "[18 46 75]\n",
        "[18 46 75]\n",
        "[30 43 76]\n",
        "[30 43 76]\n",
        "[41 41 78]\n",
        "[17 49 69]\n",
        "[16 48 68]\n",
        "[29 48 74]\n",
        "[27 46 72]\n",
        "[35 41 75]\n",
        "[10 42 62]\n",
        "[11 43 63]\n",
        "[25 44 70]\n",
        "[24 43 69]\n",
        "[20 45 77]\n",
        "[20 45 77]\n",
        "[28 44 74]\n"
       ]
      }
     ],
     "prompt_number": 72
    },
    {
     "cell_type": "code",
     "collapsed": false,
     "input": [
      "from pykalman import KalmanFilter"
     ],
     "language": "python",
     "metadata": {},
     "outputs": [],
     "prompt_number": 10
    },
    {
     "cell_type": "code",
     "collapsed": false,
     "input": [
      "def smooth(measurements):\n",
      "    kf = KalmanFilter(initial_state_mean=[-1,-1], n_dim_obs=len(measurements[0]))\n",
      "    return kf.em(measurements).smooth(measurements)[0]"
     ],
     "language": "python",
     "metadata": {},
     "outputs": [],
     "prompt_number": 11
    },
    {
     "cell_type": "code",
     "collapsed": false,
     "input": [
      "samples = np.random.multivariate_normal([-0.5, -0.5], [[1, 0],[0, 1]], 50)\n",
      "from matplotlib import pyplot as plt\n",
      "plt.plot(samples, color = 'red')\n",
      "plt.plot(smooth(samples), color = 'gray')\n",
      "plt.show()"
     ],
     "language": "python",
     "metadata": {},
     "outputs": [],
     "prompt_number": 76
    },
    {
     "cell_type": "code",
     "collapsed": false,
     "input": [
      "def get_edges(f, show = False):\n",
      "    next = cv2.cvtColor(f,cv2.COLOR_BGR2GRAY)\n",
      "    edges = cv2.Canny(next, 10, 100)\n",
      "    if show:\n",
      "        cv2.imshow('frame', edges)\n",
      "        k = cv2.waitKey(-1) & 0xFF \n",
      "        cv2.destroyAllWindows()\n",
      "    return edges"
     ],
     "language": "python",
     "metadata": {},
     "outputs": [],
     "prompt_number": 29
    },
    {
     "cell_type": "code",
     "collapsed": false,
     "input": [
      "img = get_frame(103)\n",
      "height, width = img.shape[:2]\n",
      "edges = get_edges(img)\n",
      "ysize = height/10.0\n",
      "z = round(width/ysize)\n",
      "r1 = width/z\n",
      "r2 = height/10.0\n",
      "for i in range(0, int(z)):\n",
      "    for j in range(0, 10):\n",
      "        x = int(width/z*i)\n",
      "        y = int(height/10*j)\n",
      "        average_color = get_average_color((x,y), int(r1/2), img)\n",
      "        xs, ys = np.where(edges[x:x+r1][y:y+r2] > 0)"
     ],
     "language": "python",
     "metadata": {},
     "outputs": [],
     "prompt_number": 205
    },
    {
     "cell_type": "code",
     "collapsed": false,
     "input": [
      "capture = cv2.VideoCapture(filename_mov)\n",
      "print \"\\t Width: \",capture.get(cv2.cv.CV_CAP_PROP_FRAME_WIDTH)\n",
      "print \"\\t Height: \",capture.get(cv2.cv.CV_CAP_PROP_FRAME_HEIGHT)\n",
      "print \"\\t FourCC: \",capture.get(cv2.cv.CV_CAP_PROP_FOURCC)\n",
      "print \"\\t Framerate: \",capture.get(cv2.cv.CV_CAP_PROP_FPS)\n",
      "numframes=capture.get(7)\n",
      "print \"\\t Number of Frames: \",numframes\n",
      "count=0\n",
      "history = 10\n",
      "nGauss = 3\n",
      "bgThresh = 0.6\n",
      "noise = 20\n",
      "bgs = cv2.BackgroundSubtractorMOG(history,nGauss,bgThresh,noise)\n",
      "measuredTrack=np.zeros((numframes,2))-1\n",
      "set_frame(capture, 100)\n",
      "while count<2000:\n",
      "    count+=1\n",
      "    img2 = capture.read()[1]\n",
      "    cv2.imshow(\"Video\",img2)\n",
      "    foremat=bgs.apply(img2)\n",
      "    cv2.waitKey(100)\n",
      "    foremat=bgs.apply(img2)\n",
      "    ret,thresh = cv2.threshold(foremat,127,255,0)\n",
      "    contours, hierarchy = cv2.findContours(thresh,cv2.RETR_TREE,cv2.CHAIN_APPROX_SIMPLE)\n",
      "    if len(contours) > 0:\n",
      "        m= np.mean(contours[0],axis=0)\n",
      "        measuredTrack[count-1,:]=m[0]\n",
      "        plt.plot(m[0,0],m[0,1],'ob')\n",
      "    cv2.imshow('Foreground',foremat)\n",
      "    cv2.waitKey(80)\n",
      "capture.release()\n",
      "print measuredTrack\n",
      "np.save(\"ballTrajectory\", measuredTrack)\n",
      "plt.show()"
     ],
     "language": "python",
     "metadata": {},
     "outputs": [
      {
       "output_type": "stream",
       "stream": "stdout",
       "text": [
        "\t Width:  1920.0\n",
        "\t Height:  1080.0\n",
        "\t FourCC:  0.0\n",
        "\t Framerate:  24.0\n",
        "\t Number of Frames:  1558.72\n"
       ]
      },
      {
       "ename": "KeyboardInterrupt",
       "evalue": "",
       "output_type": "pyerr",
       "traceback": [
        "\u001b[0;31m---------------------------------------------------------------------------\u001b[0m\n\u001b[0;31mKeyboardInterrupt\u001b[0m                         Traceback (most recent call last)",
        "\u001b[0;32m<ipython-input-184-0cdc32c90cc9>\u001b[0m in \u001b[0;36m<module>\u001b[0;34m()\u001b[0m\n\u001b[1;32m     16\u001b[0m \u001b[0;32mwhile\u001b[0m \u001b[0mcount\u001b[0m\u001b[0;34m<\u001b[0m\u001b[0;36m2000\u001b[0m\u001b[0;34m:\u001b[0m\u001b[0;34m\u001b[0m\u001b[0m\n\u001b[1;32m     17\u001b[0m     \u001b[0mcount\u001b[0m\u001b[0;34m+=\u001b[0m\u001b[0;36m1\u001b[0m\u001b[0;34m\u001b[0m\u001b[0m\n\u001b[0;32m---> 18\u001b[0;31m     \u001b[0mimg2\u001b[0m \u001b[0;34m=\u001b[0m \u001b[0mcapture\u001b[0m\u001b[0;34m.\u001b[0m\u001b[0mread\u001b[0m\u001b[0;34m(\u001b[0m\u001b[0;34m)\u001b[0m\u001b[0;34m[\u001b[0m\u001b[0;36m1\u001b[0m\u001b[0;34m]\u001b[0m\u001b[0;34m\u001b[0m\u001b[0m\n\u001b[0m\u001b[1;32m     19\u001b[0m     \u001b[0mcv2\u001b[0m\u001b[0;34m.\u001b[0m\u001b[0mimshow\u001b[0m\u001b[0;34m(\u001b[0m\u001b[0;34m\"Video\"\u001b[0m\u001b[0;34m,\u001b[0m\u001b[0mimg2\u001b[0m\u001b[0;34m)\u001b[0m\u001b[0;34m\u001b[0m\u001b[0m\n\u001b[1;32m     20\u001b[0m     \u001b[0mforemat\u001b[0m\u001b[0;34m=\u001b[0m\u001b[0mbgs\u001b[0m\u001b[0;34m.\u001b[0m\u001b[0mapply\u001b[0m\u001b[0;34m(\u001b[0m\u001b[0mimg2\u001b[0m\u001b[0;34m)\u001b[0m\u001b[0;34m\u001b[0m\u001b[0m\n",
        "\u001b[0;31mKeyboardInterrupt\u001b[0m: "
       ]
      }
     ],
     "prompt_number": 184
    },
    {
     "cell_type": "code",
     "collapsed": false,
     "input": [
      "first_frame = get_frame(1)\n",
      "def get_background_sub(img, background=first_frame):\n",
      "    fgbg = cv2.BackgroundSubtractorMOG()\n",
      "    fgmask = fgbg.apply(background)\n",
      "    fgmask = fgbg.apply(img)\n",
      "    return fgmask\n",
      "\n",
      "def threshold_by_color(img):\n",
      "    # Convert BGR to HSV\n",
      "    hsv = cv2.cvtColor(img, cv2.COLOR_BGR2HSV)\n",
      "\n",
      "    # define range of blue color in HSV\n",
      "    lower_orange = np.array([13, 183, 247])\n",
      "    upper_orange = np.array([255, 255, 255])\n",
      "\n",
      "    # Threshold the HSV image to get only orange colors\n",
      "    mask = cv2.inRange(hsv, lower_orange, upper_orange)\n",
      "    return mask\n",
      "   "
     ],
     "language": "python",
     "metadata": {},
     "outputs": [],
     "prompt_number": 13
    },
    {
     "cell_type": "code",
     "collapsed": false,
     "input": [
      "import cv2\n",
      "import numpy as np\n",
      "\n",
      "cap = cv2.VideoCapture(filename_mov)\n",
      "set_frame(cap,100)\n",
      "while(1):\n",
      "\n",
      "    # Take each frame\n",
      "    _, frame = cap.read()\n",
      "\n",
      "    # Convert BGR to HSV\n",
      "    hsv = cv2.cvtColor(frame, cv2.COLOR_BGR2HSV)\n",
      "\n",
      "    # define range of blue color in HSV\n",
      "  \n",
      "    ORANGE_MIN = np.array([3, 183, 247],np.uint8)\n",
      "    ORANGE_MAX = np.array([23, 255, 255],np.uint8)\n",
      "\n",
      "\n",
      "    # Threshold the HSV image to get only blue colors\n",
      "    mask = cv2.inRange(hsv, ORANGE_MIN, ORANGE_MAX)\n",
      "\n",
      "    # Bitwise-AND mask and original image\n",
      "    res = cv2.bitwise_and(frame,frame, mask= mask)\n",
      "\n",
      "    cv2.imshow('frame',frame)\n",
      "    cv2.imshow('mask',mask)\n",
      "    cv2.imshow('res',res)\n",
      "    k = cv2.waitKey(5) & 0xFF\n",
      "    if k == 27:\n",
      "        break\n",
      "\n",
      "cv2.destroyAllWindows()"
     ],
     "language": "python",
     "metadata": {},
     "outputs": [],
     "prompt_number": 121
    },
    {
     "cell_type": "code",
     "collapsed": false,
     "input": [
      "hsv = cv2.cvtColor(get_frame(100), cv2.COLOR_BGR2HSV)\n",
      "cv2.destroyAllWindows()"
     ],
     "language": "python",
     "metadata": {},
     "outputs": []
    },
    {
     "cell_type": "code",
     "collapsed": false,
     "input": [
      "hsv[148][480]"
     ],
     "language": "python",
     "metadata": {},
     "outputs": [
      {
       "metadata": {},
       "output_type": "pyout",
       "prompt_number": 252,
       "text": [
        "array([ 14, 147, 113], dtype=uint8)"
       ]
      }
     ],
     "prompt_number": 252
    },
    {
     "cell_type": "code",
     "collapsed": false,
     "input": [
      "pic = get_frame(1)\n",
      "f= open('DATA-FILE.txt', 'r')\n",
      "while 1:\n",
      "    line = f.readline() \n",
      "    if not line:\n",
      "        break    \n",
      "    a = line.split()\n",
      "    if(len(a) > 2):\n",
      "        print a[2]\n",
      "        pic = get_frame(float(a[2]))\n",
      "        cv2.imshow('hi', pic)\n",
      "    else:\n",
      "        b = f.readline()\n",
      "        c = b.split()\n",
      "        print a\n",
      "        print c\n",
      "        d = pic[int(a[1]):int(c[1]), int(a[0]):int(c[0])]\n",
      "        cv2.imshow('hi', d)\n",
      "        cv2.waitKey(-1)\n",
      "\n",
      "a = get_frame(100)\n",
      "b = a[366:607, 0:304]\n",
      "cv2.destroyAllWindows()"
     ],
     "language": "python",
     "metadata": {},
     "outputs": [
      {
       "output_type": "stream",
       "stream": "stdout",
       "text": [
        "100\n",
        "['1', '357']"
       ]
      },
      {
       "output_type": "stream",
       "stream": "stdout",
       "text": [
        "\n",
        "['298', '606']\n",
        "101"
       ]
      },
      {
       "output_type": "stream",
       "stream": "stdout",
       "text": [
        "\n",
        "['62', '375']"
       ]
      },
      {
       "output_type": "stream",
       "stream": "stdout",
       "text": [
        "\n",
        "['346', '612']\n",
        "102"
       ]
      },
      {
       "output_type": "stream",
       "stream": "stdout",
       "text": [
        "\n",
        "['114', '372']"
       ]
      },
      {
       "output_type": "stream",
       "stream": "stdout",
       "text": [
        "\n",
        "['399', '612']\n",
        "103"
       ]
      },
      {
       "output_type": "stream",
       "stream": "stdout",
       "text": [
        "\n",
        "['171', '379']"
       ]
      },
      {
       "output_type": "stream",
       "stream": "stdout",
       "text": [
        "\n",
        "['433', '604']\n",
        "104"
       ]
      },
      {
       "output_type": "stream",
       "stream": "stdout",
       "text": [
        "\n",
        "['215', '387']"
       ]
      },
      {
       "output_type": "stream",
       "stream": "stdout",
       "text": [
        "\n",
        "['479', '609']\n",
        "110"
       ]
      },
      {
       "output_type": "stream",
       "stream": "stdout",
       "text": [
        "\n",
        "['453', '408']"
       ]
      },
      {
       "output_type": "stream",
       "stream": "stdout",
       "text": [
        "\n",
        "['674', '595']\n",
        "111"
       ]
      },
      {
       "output_type": "stream",
       "stream": "stdout",
       "text": [
        "\n",
        "['483', '407']"
       ]
      },
      {
       "output_type": "stream",
       "stream": "stdout",
       "text": [
        "\n",
        "['700', '596']\n",
        "112"
       ]
      },
      {
       "output_type": "stream",
       "stream": "stdout",
       "text": [
        "\n",
        "['513', '412']"
       ]
      },
      {
       "output_type": "stream",
       "stream": "stdout",
       "text": [
        "\n",
        "['727', '595']\n",
        "113"
       ]
      },
      {
       "output_type": "stream",
       "stream": "stdout",
       "text": [
        "\n",
        "['544', '413']"
       ]
      },
      {
       "output_type": "stream",
       "stream": "stdout",
       "text": [
        "\n",
        "['757', '591']\n",
        "200"
       ]
      },
      {
       "output_type": "stream",
       "stream": "stdout",
       "text": [
        "\n",
        "['1419', '491']"
       ]
      },
      {
       "output_type": "stream",
       "stream": "stdout",
       "text": [
        "\n",
        "['1517', '580']\n",
        "201"
       ]
      },
      {
       "output_type": "stream",
       "stream": "stdout",
       "text": [
        "\n",
        "['1421', '491']"
       ]
      },
      {
       "output_type": "stream",
       "stream": "stdout",
       "text": [
        "\n",
        "['1518', '579']\n",
        "202"
       ]
      },
      {
       "output_type": "stream",
       "stream": "stdout",
       "text": [
        "\n",
        "['1419', '490']"
       ]
      },
      {
       "output_type": "stream",
       "stream": "stdout",
       "text": [
        "\n",
        "['1521', '582']\n",
        "203"
       ]
      },
      {
       "output_type": "stream",
       "stream": "stdout",
       "text": [
        "\n",
        "['1421', '494']"
       ]
      },
      {
       "output_type": "stream",
       "stream": "stdout",
       "text": [
        "\n",
        "['1521', '577']\n",
        "250"
       ]
      },
      {
       "output_type": "stream",
       "stream": "stdout",
       "text": [
        "\n",
        "['1430', '500']"
       ]
      },
      {
       "output_type": "stream",
       "stream": "stdout",
       "text": [
        "\n",
        "['1508', '576']\n",
        "251"
       ]
      },
      {
       "output_type": "stream",
       "stream": "stdout",
       "text": [
        "\n",
        "['1426', '500']"
       ]
      },
      {
       "output_type": "stream",
       "stream": "stdout",
       "text": [
        "\n",
        "['1506', '576']\n",
        "252"
       ]
      },
      {
       "output_type": "stream",
       "stream": "stdout",
       "text": [
        "\n",
        "['1422', '497']"
       ]
      },
      {
       "output_type": "stream",
       "stream": "stdout",
       "text": [
        "\n",
        "['1505', '577']\n",
        "253"
       ]
      },
      {
       "output_type": "stream",
       "stream": "stdout",
       "text": [
        "\n",
        "['1419', '496']"
       ]
      },
      {
       "output_type": "stream",
       "stream": "stdout",
       "text": [
        "\n",
        "['1503', '574']\n",
        "254"
       ]
      },
      {
       "output_type": "stream",
       "stream": "stdout",
       "text": [
        "\n",
        "['1411', '494']"
       ]
      },
      {
       "output_type": "stream",
       "stream": "stdout",
       "text": [
        "\n",
        "['1503', '579']\n"
       ]
      }
     ],
     "prompt_number": 9
    },
    {
     "cell_type": "code",
     "collapsed": false,
     "input": [
      "import os\n",
      "import cv2\n",
      "import math\n",
      "\n",
      "##Resize with resize command\n",
      "def resizeImage(img):\n",
      "    dst = cv2.resize(img,None, fx=0.25, fy=0.25, interpolation = cv2.INTER_LINEAR)\n",
      "    return dst\n",
      "\n",
      "##Load image\n",
      "img =  get_frame(105)\n",
      "grey = cv2.cvtColor(img,cv2.COLOR_BGR2GRAY)\n",
      "\n",
      "##Run Threshold on image to make it black and white\n",
      "ret, thresh = cv2.threshold(grey,50,255,cv2.THRESH_BINARY)\n",
      "\n",
      "##Use houghcircles to determine centre of circle\n",
      "circles = cv2.HoughCircles(thresh,cv2.cv.CV_HOUGH_GRADIENT,1,75,param1=50,param2=13,minRadius=0,maxRadius=175)\n",
      "for i in circles[0,:]:\n",
      "    #draw the outer circle\n",
      "    cv2.circle(img,(i[0],i[1]),i[2],(0,255,0),2)\n",
      "    #draw the centre of the circle\n",
      "    cv2.circle(img,(i[0],i[1]),2,(0,0,255),3)\n",
      "\n",
      "##Determine co-ordinates for centre of circle\n",
      "x1 = circles[0][0][0]\n",
      "y1 = circles[0][0][1]\n",
      "x2 = circles[0][1][0]\n",
      "y2 = circles[0][1][1]\n",
      "##Angle betwen two circles\n",
      "theta = math.degrees(math.atan((y2-y1)/(x2-x1)))\n",
      "\n",
      "##print information\n",
      "print \"x1 = \",x1\n",
      "print \"y1 = \",y1\n",
      "print \"x2 = \",x2\n",
      "print \"y2 = \",y2\n",
      "print theta\n",
      "print circles\n",
      "\n",
      "##Resize image\n",
      "img = resizeImage(img)\n",
      "thresh = resizeImage(thresh)\n",
      "##Show Images \n",
      "cv2.imshow(\"thresh\",thresh)\n",
      "cv2.imshow(\"img\",img)\n",
      "\n",
      "cv2.waitKey(0)\n"
     ],
     "language": "python",
     "metadata": {},
     "outputs": [
      {
       "output_type": "stream",
       "stream": "stdout",
       "text": [
        "x1 =  69.5\n",
        "y1 =  57.5\n",
        "x2 =  51.5\n",
        "y2 =  131.5\n",
        "-76.3286930374\n",
        "[[[  69.5          57.5           7.51664829]\n",
        "  [  51.5         131.5          19.60867119]\n",
        "  [ 208.5          24.5           3.8078866 ]\n",
        "  [ 129.5           9.5           8.51469326]\n",
        "  [ 138.5          95.5          53.05186081]\n",
        "  [ 129.5         178.5          63.07535172]\n",
        "  [  12.5         201.5          10.97724915]\n",
        "  [   1.5          11.5          12.74754906]\n",
        "  [ 228.5         100.5          25.93260574]\n",
        "  [  77.5         247.5         123.52529907]\n",
        "  [ 288.5          29.5          26.8793602 ]\n",
        "  [ 254.5         172.5          66.18534851]\n",
        "  [ 234.5         275.5          34.79224014]\n",
        "  [ 162.5         246.5          38.89087296]]]"
       ]
      }
     ]
    },
    {
     "cell_type": "code",
     "collapsed": false,
     "input": [
      "cv2.destroyAllWindows()"
     ],
     "language": "python",
     "metadata": {},
     "outputs": []
    },
    {
     "cell_type": "code",
     "collapsed": false,
     "input": [
      "img = get_frame(204)\n",
      "tbc = threshold_by_color(img)\n",
      "ret,thresh = cv2.threshold(tbc,127,255,0)\n",
      "\n",
      "# temporary bad name\n",
      "# thresh = get_background_sub(img)\n",
      "# thresh = cv2.medianBlur(thresh, 9)\n",
      "cv2.imshow('anystring', thresh)\n",
      "\n",
      "\n",
      "contours,hierarchy = cv2.findContours(thresh, 1, 2)\n",
      "\n",
      "sorted_contours = sorted(contours, lambda c1, c2: 1 if cv2.contourArea(c2) - cv2.contourArea(c1) > 0 else -1)\n",
      "print sorted_contours[0], sorted_contours[-1]\n",
      "contours = sorted_contours\n",
      "\n",
      "cnt = contours[0]\n",
      "M = cv2.moments(cnt)\n",
      "(x,y),radius = cv2.minEnclosingCircle(cnt)\n",
      "center = (int(x),int(y))\n",
      "radius = int(radius)\n",
      "cv2.circle(img,center,radius,(0,0,255),1)\n",
      "print \"radius\", radius\n",
      "print M\n",
      "\n",
      "cx = int(M['m10']/M['m00'])\n",
      "cy = int(M['m01']/M['m00'])\n",
      "cv2.circle(img, (cx, cy), 10, (0,255,0))\n",
      "cv2.imshow('frame3', img)\n",
      "cv2.drawContours(img, contours, -1, (0,255,0), 1)\n",
      "cv2.imshow('frame', img)\n",
      "cv2.waitKey(-1)\n",
      "cv2.destroyAllWindows()"
     ],
     "language": "python",
     "metadata": {},
     "outputs": [
      {
       "output_type": "stream",
       "stream": "stdout",
       "text": [
        "[[[1435  518]]\n",
        "\n",
        " [[1434  519]]\n",
        "\n",
        " [[1434  521]]\n",
        "\n",
        " [[1433  522]]\n",
        "\n",
        " [[1432  522]]\n",
        "\n",
        " [[1432  523]]\n",
        "\n",
        " [[1431  524]]\n",
        "\n",
        " [[1431  525]]\n",
        "\n",
        " [[1430  526]]\n",
        "\n",
        " [[1430  529]]\n",
        "\n",
        " [[1429  530]]\n",
        "\n",
        " [[1429  531]]\n",
        "\n",
        " [[1428  532]]\n",
        "\n",
        " [[1428  541]]\n",
        "\n",
        " [[1427  542]]\n",
        "\n",
        " [[1427  543]]\n",
        "\n",
        " [[1428  543]]\n",
        "\n",
        " [[1429  544]]\n",
        "\n",
        " [[1429  545]]\n",
        "\n",
        " [[1428  546]]\n",
        "\n",
        " [[1428  551]]\n",
        "\n",
        " [[1430  553]]\n",
        "\n",
        " [[1430  555]]\n",
        "\n",
        " [[1431  555]]\n",
        "\n",
        " [[1432  556]]\n",
        "\n",
        " [[1432  560]]\n",
        "\n",
        " [[1433  561]]\n",
        "\n",
        " [[1434  561]]\n",
        "\n",
        " [[1435  562]]\n",
        "\n",
        " [[1435  563]]\n",
        "\n",
        " [[1437  563]]\n",
        "\n",
        " [[1438  564]]\n",
        "\n",
        " [[1438  565]]\n",
        "\n",
        " [[1441  565]]\n",
        "\n",
        " [[1442  566]]\n",
        "\n",
        " [[1442  567]]\n",
        "\n",
        " [[1443  567]]\n",
        "\n",
        " [[1444  568]]\n",
        "\n",
        " [[1444  569]]\n",
        "\n",
        " [[1445  569]]\n",
        "\n",
        " [[1446  570]]\n",
        "\n",
        " [[1446  571]]\n",
        "\n",
        " [[1447  571]]\n",
        "\n",
        " [[1448  572]]\n",
        "\n",
        " [[1449  572]]\n",
        "\n",
        " [[1450  573]]\n",
        "\n",
        " [[1453  573]]\n",
        "\n",
        " [[1454  574]]\n",
        "\n",
        " [[1455  574]]\n",
        "\n",
        " [[1456  575]]\n",
        "\n",
        " [[1459  575]]\n",
        "\n",
        " [[1461  577]]\n",
        "\n",
        " [[1477  577]]\n",
        "\n",
        " [[1477  576]]\n",
        "\n",
        " [[1478  575]]\n",
        "\n",
        " [[1485  575]]\n",
        "\n",
        " [[1486  574]]\n",
        "\n",
        " [[1487  574]]\n",
        "\n",
        " [[1488  573]]\n",
        "\n",
        " [[1489  573]]\n",
        "\n",
        " [[1489  572]]\n",
        "\n",
        " [[1490  571]]\n",
        "\n",
        " [[1491  571]]\n",
        "\n",
        " [[1490  570]]\n",
        "\n",
        " [[1491  569]]\n",
        "\n",
        " [[1491  568]]\n",
        "\n",
        " [[1492  567]]\n",
        "\n",
        " [[1493  567]]\n",
        "\n",
        " [[1493  566]]\n",
        "\n",
        " [[1494  565]]\n",
        "\n",
        " [[1495  565]]\n",
        "\n",
        " [[1494  564]]\n",
        "\n",
        " [[1495  563]]\n",
        "\n",
        " [[1495  561]]\n",
        "\n",
        " [[1494  561]]\n",
        "\n",
        " [[1493  560]]\n",
        "\n",
        " [[1493  559]]\n",
        "\n",
        " [[1492  558]]\n",
        "\n",
        " [[1492  557]]\n",
        "\n",
        " [[1491  556]]\n",
        "\n",
        " [[1492  555]]\n",
        "\n",
        " [[1493  555]]\n",
        "\n",
        " [[1493  554]]\n",
        "\n",
        " [[1494  553]]\n",
        "\n",
        " [[1495  553]]\n",
        "\n",
        " [[1495  552]]\n",
        "\n",
        " [[1496  551]]\n",
        "\n",
        " [[1497  551]]\n",
        "\n",
        " [[1497  550]]\n",
        "\n",
        " [[1496  550]]\n",
        "\n",
        " [[1495  549]]\n",
        "\n",
        " [[1494  550]]\n",
        "\n",
        " [[1492  550]]\n",
        "\n",
        " [[1491  549]]\n",
        "\n",
        " [[1491  548]]\n",
        "\n",
        " [[1490  548]]\n",
        "\n",
        " [[1489  547]]\n",
        "\n",
        " [[1489  546]]\n",
        "\n",
        " [[1480  546]]\n",
        "\n",
        " [[1479  545]]\n",
        "\n",
        " [[1479  542]]\n",
        "\n",
        " [[1478  542]]\n",
        "\n",
        " [[1477  541]]\n",
        "\n",
        " [[1477  536]]\n",
        "\n",
        " [[1471  536]]\n",
        "\n",
        " [[1469  534]]\n",
        "\n",
        " [[1468  534]]\n",
        "\n",
        " [[1467  533]]\n",
        "\n",
        " [[1467  532]]\n",
        "\n",
        " [[1464  532]]\n",
        "\n",
        " [[1464  533]]\n",
        "\n",
        " [[1463  534]]\n",
        "\n",
        " [[1462  534]]\n",
        "\n",
        " [[1462  535]]\n",
        "\n",
        " [[1461  536]]\n",
        "\n",
        " [[1460  536]]\n",
        "\n",
        " [[1459  535]]\n",
        "\n",
        " [[1459  534]]\n",
        "\n",
        " [[1458  534]]\n",
        "\n",
        " [[1457  533]]\n",
        "\n",
        " [[1457  532]]\n",
        "\n",
        " [[1456  532]]\n",
        "\n",
        " [[1455  533]]\n",
        "\n",
        " [[1454  532]]\n",
        "\n",
        " [[1454  529]]\n",
        "\n",
        " [[1453  528]]\n",
        "\n",
        " [[1453  520]]\n",
        "\n",
        " [[1439  520]]\n",
        "\n",
        " [[1438  519]]\n",
        "\n",
        " [[1438  518]]\n",
        "\n",
        " [[1437  518]]\n",
        "\n",
        " [[1437  520]]\n",
        "\n",
        " [[1436  521]]\n",
        "\n",
        " [[1435  520]]] [[[1447  526]]\n",
        "\n",
        " [[1448  525]]\n",
        "\n",
        " [[1449  525]]\n",
        "\n",
        " [[1450  526]]\n",
        "\n",
        " [[1450  527]]\n",
        "\n",
        " [[1449  528]]]\n",
        "radius 39\n",
        "{'mu02': 496539.5294402838, 'mu03': -1564495.6758422852, 'm11': 2054489179.125, 'nu02': 0.0759735174862745, 'm12': 1132759987521.6833, 'mu21': -30822.733273029327, 'mu20': 761233.9132986069, 'nu20': 0.11647334118258197, 'm30': 7934723750035.051, 'nu21': -9.327315247764038e-05, 'mu11': 287990.27819371223, 'mu12': -1484734.7538257837, 'nu11': 0.04406423484730515, 'nu12': -0.004492978927460104, 'm02': 776453781.4166666, 'm03': 428316815186.75, 'm00': 2556.5, 'm01': 1408451.1666666665, 'mu30': 2304271.345703125, 'nu30': 0.006972991352642026, 'nu03': -0.004734344693925472, 'm10': 3728610.1666666665, 'm20': 5438873408.75, 'm21': 2997275621383.25}\n"
       ]
      }
     ],
     "prompt_number": 36
    },
    {
     "cell_type": "code",
     "collapsed": false,
     "input": [
      "img = get_frame(100)\n",
      "cv2.imshow('frame', get_background_sub(img))"
     ],
     "language": "python",
     "metadata": {},
     "outputs": [],
     "prompt_number": 80
    },
    {
     "cell_type": "code",
     "collapsed": false,
     "input": [
      "cv2.destroyAllWindows()"
     ],
     "language": "python",
     "metadata": {},
     "outputs": [],
     "prompt_number": 77
    },
    {
     "cell_type": "markdown",
     "metadata": {},
     "source": [
      "Use thresholded images to find ball in every frame of both cameras"
     ]
    },
    {
     "cell_type": "code",
     "collapsed": false,
     "input": [
      "vc2 = cv2.VideoCapture(filename_backleft_mov)\n",
      "vc2.isOpened()\n",
      "\n",
      "def get_frame2(i):\n",
      "    vc2.set(cv.CV_CAP_PROP_POS_FRAMES, i)\n",
      "    ret, img = vc2.read()\n",
      "    return img\n",
      "\n",
      "image2 = get_frame2(400)\n",
      "hsv = cv2.cvtColor(image2, cv2.COLOR_BGR2HSV)\n",
      "\n",
      "# mouse callback function\n",
      "def print_points2(event,x,y,flags,param):\n",
      "    if event == cv2.EVENT_LBUTTONDOWN:\n",
      "        #f.write(\"%d %d\\n\"%(x,y))\n",
      "        print hsv[y][x]\n",
      "# Click point on frame to log it. \n",
      "def click_frame2(i):\n",
      "   # f.write(\"Clicking Frame %d\\n\"%i)\n",
      "    cv2.namedWindow('image')\n",
      "    cv2.setMouseCallback('image', print_points2)\n",
      "\n",
      "    while(1):\n",
      "        cv2.imshow('image', get_frame2(i))\n",
      "        k = cv2.waitKey(-1) & 0xFF \n",
      "        if k == 27:\n",
      "            cv2.destroyAllWindows()\n",
      "            return True\n",
      "        elif k == 13:\n",
      "            cv2.destroyAllWindows()\n",
      "            return False\n",
      "click_frame2(400)"
     ],
     "language": "python",
     "metadata": {},
     "outputs": [
      {
       "output_type": "stream",
       "stream": "stdout",
       "text": [
        "[ 10 232 179]\n",
        "[ 10 232 179]"
       ]
      },
      {
       "output_type": "stream",
       "stream": "stdout",
       "text": [
        "\n",
        "[ 10 232 179]"
       ]
      },
      {
       "output_type": "stream",
       "stream": "stdout",
       "text": [
        "\n",
        "[ 12 143 202]"
       ]
      },
      {
       "output_type": "stream",
       "stream": "stdout",
       "text": [
        "\n",
        "[  6 215 133]"
       ]
      },
      {
       "output_type": "stream",
       "stream": "stdout",
       "text": [
        "\n",
        "[ 12 168 207]"
       ]
      },
      {
       "output_type": "stream",
       "stream": "stdout",
       "text": [
        "\n",
        "[ 11 185 160]"
       ]
      },
      {
       "output_type": "stream",
       "stream": "stdout",
       "text": [
        "\n",
        "[ 22 108 225]"
       ]
      },
      {
       "output_type": "stream",
       "stream": "stdout",
       "text": [
        "\n",
        "[  7 198 152]"
       ]
      },
      {
       "output_type": "stream",
       "stream": "stdout",
       "text": [
        "\n",
        "[  9 128 158]"
       ]
      },
      {
       "output_type": "stream",
       "stream": "stdout",
       "text": [
        "\n",
        "[ 10 234 172]"
       ]
      },
      {
       "output_type": "stream",
       "stream": "stdout",
       "text": [
        "\n",
        "[  7 206 161]"
       ]
      },
      {
       "output_type": "stream",
       "stream": "stdout",
       "text": [
        "\n",
        "[ 12 155 221]"
       ]
      },
      {
       "output_type": "stream",
       "stream": "stdout",
       "text": [
        "\n",
        "[ 10 206 176]"
       ]
      },
      {
       "output_type": "stream",
       "stream": "stdout",
       "text": [
        "\n",
        "[ 10 231 191]"
       ]
      },
      {
       "output_type": "stream",
       "stream": "stdout",
       "text": [
        "\n",
        "[  8 230 163]"
       ]
      },
      {
       "output_type": "stream",
       "stream": "stdout",
       "text": [
        "\n",
        "[  0   0 255]"
       ]
      },
      {
       "output_type": "stream",
       "stream": "stdout",
       "text": [
        "\n"
       ]
      },
      {
       "metadata": {},
       "output_type": "pyout",
       "prompt_number": 45,
       "text": [
        "False"
       ]
      }
     ],
     "prompt_number": 45
    },
    {
     "cell_type": "code",
     "collapsed": false,
     "input": [
      "frame100 = get_frame(100)\n",
      "edges = get_edges(frame100)\n",
      "cv2.imshow('frame', edges)"
     ],
     "language": "python",
     "metadata": {},
     "outputs": [],
     "prompt_number": 20
    },
    {
     "cell_type": "code",
     "collapsed": false,
     "input": [
      "cv2.destroyAllWindows()"
     ],
     "language": "python",
     "metadata": {},
     "outputs": [],
     "prompt_number": 78
    },
    {
     "cell_type": "code",
     "collapsed": false,
     "input": [
      "img = get_frame(150)\n",
      "img = cv2.cvtColor(img, cv2.COLOR_BGR2GRAY)\n",
      "img = cv2.medianBlur(img,5)\n",
      "cimg = cv2.cvtColor(img,cv2.COLOR_GRAY2BGR)\n",
      "circles = cv2.HoughCircles(img,cv2.cv.CV_HOUGH_GRADIENT,2,20,param2=100)\n",
      "circles = np.uint16(np.around(circles))\n",
      "for i in circles[0,:]:\n",
      "    # draw the outer circle\n",
      "    cv2.circle(cimg,(i[0],i[1]),i[2],(0,255,0),2)\n",
      "    # draw the center of the circle\n",
      "    cv2.circle(cimg,(i[0],i[1]),2,(0,0,255),3)\n",
      "    \n",
      "cv2.imshow('detected circles',cimg)\n",
      "cv2.waitKey(0)\n",
      "cv2.destroyAllWindows()"
     ],
     "language": "python",
     "metadata": {},
     "outputs": [],
     "prompt_number": 119
    },
    {
     "cell_type": "code",
     "collapsed": false,
     "input": [
      "def get_hough_transform(img):\n",
      "    img = cv2.cvtColor(img, cv2.COLOR_BGR2GRAY)\n",
      "    img = cv2.medianBlur(img,5)\n",
      "    cimg = cv2.cvtColor(img,cv2.COLOR_GRAY2BGR)\n",
      "    circles = cv2.HoughCircles(img,cv2.cv.CV_HOUGH_GRADIENT,2,20,param2=120)\n",
      "    circles = np.uint16(np.around(circles))\n",
      "    return circles\n",
      "print get_hough_transform(get_frame(120))"
     ],
     "language": "python",
     "metadata": {},
     "outputs": [
      {
       "output_type": "stream",
       "stream": "stdout",
       "text": [
        "[[[ 819  507   86]\n",
        "  [1867  473   58]]]\n"
       ]
      }
     ],
     "prompt_number": 114
    },
    {
     "cell_type": "code",
     "collapsed": false,
     "input": [
      "#filename_mov2 = \"%s/data/run001/test2.MOV\" % os.getcwd()\n",
      "vc2 = cv2.VideoCapture(filename_backleft_mov)\n",
      "vc2.isOpened()\n",
      "def get_frame2(i):\n",
      "    vc2.set(cv.CV_CAP_PROP_POS_FRAMES, i)\n",
      "    ret, img = vc2.read()\n",
      "    return img\n",
      "\n",
      "cv2.imshow('frame2', get_edges(get_frame2(250)))\n",
      "cimg = get_frame2(400)\n",
      "circles = get_hough_transform(cimg)\n",
      "for i in circles[0,:]:\n",
      "    # draw the outer circle\n",
      "    cv2.circle(cimg,(i[0],i[1]),i[2],(0,255,0),2)\n",
      "    # draw the center of the circle\n",
      "    cv2.circle(cimg,(i[0],i[1]),2,(0,0,255),3)\n",
      "cv2.imshow('f', cimg)"
     ],
     "language": "python",
     "metadata": {},
     "outputs": [],
     "prompt_number": 124
    },
    {
     "cell_type": "code",
     "collapsed": false,
     "input": [
      "cv2.destroyAllWindows()"
     ],
     "language": "python",
     "metadata": {},
     "outputs": []
    },
    {
     "cell_type": "code",
     "collapsed": false,
     "input": [
      "# mouse callback function\n",
      "def print_points(event,x,y,flags,param):\n",
      "    if event == cv2.EVENT_LBUTTONDOWN:\n",
      "        print (x,y)\n",
      "# Click point on frame to log it. \n",
      "def click_frame(f):\n",
      "   # f.write(\"Clicking Frame %d\\n\"%i)\n",
      "    cv2.namedWindow('image')\n",
      "    cv2.setMouseCallback('image', print_points)\n",
      "\n",
      "    while(1):\n",
      "        cv2.imshow('image', f)\n",
      "        k = cv2.waitKey(-1) & 0xFF \n",
      "        if k == 27:\n",
      "            cv2.destroyAllWindows()\n",
      "            return True\n",
      "        elif k == 13:\n",
      "            cv2.destroyAllWindows()\n",
      "            return False\n",
      "pp = \"%s/data/run000/ping-pong.JPG\" % os.getcwd()\n",
      "a = cv2.imread(pp)\n",
      "click_frame(a)"
     ],
     "language": "python",
     "metadata": {},
     "outputs": [
      {
       "output_type": "stream",
       "stream": "stdout",
       "text": [
        "(893, 262)\n",
        "(935, 263)"
       ]
      },
      {
       "output_type": "stream",
       "stream": "stdout",
       "text": [
        "\n",
        "(892, 260)"
       ]
      },
      {
       "output_type": "stream",
       "stream": "stdout",
       "text": [
        "\n",
        "(560, 67)"
       ]
      },
      {
       "output_type": "stream",
       "stream": "stdout",
       "text": [
        "\n",
        "(785, 66)"
       ]
      },
      {
       "output_type": "stream",
       "stream": "stdout",
       "text": [
        "\n",
        "(785, 301)"
       ]
      },
      {
       "output_type": "stream",
       "stream": "stdout",
       "text": [
        "\n",
        "(563, 296)"
       ]
      },
      {
       "output_type": "stream",
       "stream": "stdout",
       "text": [
        "\n",
        "(337, 297)"
       ]
      },
      {
       "output_type": "stream",
       "stream": "stdout",
       "text": [
        "\n",
        "(559, 304)"
       ]
      },
      {
       "output_type": "stream",
       "stream": "stdout",
       "text": [
        "\n",
        "(561, 527)"
       ]
      },
      {
       "output_type": "stream",
       "stream": "stdout",
       "text": [
        "\n",
        "(346, 529)"
       ]
      },
      {
       "output_type": "stream",
       "stream": "stdout",
       "text": [
        "\n",
        "(894, 264)"
       ]
      }
     ]
    },
    {
     "cell_type": "code",
     "collapsed": false,
     "input": [],
     "language": "python",
     "metadata": {},
     "outputs": [],
     "prompt_number": 130
    },
    {
     "cell_type": "code",
     "collapsed": false,
     "input": [],
     "language": "python",
     "metadata": {},
     "outputs": []
    }
   ],
   "metadata": {}
  }
 ]
}