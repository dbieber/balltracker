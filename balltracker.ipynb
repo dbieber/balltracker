{
 "metadata": {
  "name": "",
  "signature": "sha256:b27133f32b6c49c9a205300e675b6cfd21a0b6de48961f504fb74314ef5dc6f4"
 },
 "nbformat": 3,
 "nbformat_minor": 0,
 "worksheets": [
  {
   "cells": [
    {
     "cell_type": "raw",
     "metadata": {},
     "source": [
      "Goal: Process video data"
     ]
    },
    {
     "cell_type": "code",
     "collapsed": false,
     "input": [
      "import cv\n",
      "import cv2\n",
      "import os\n",
      "import random"
     ],
     "language": "python",
     "metadata": {},
     "outputs": [],
     "prompt_number": 1
    },
    {
     "cell_type": "code",
     "collapsed": false,
     "input": [
      "filename_mov = \"%s/data/run000/backright.MOV\" % os.getcwd()\n",
      "filename_avi = \"%s/data/run000/backright.avi\" % os.getcwd()"
     ],
     "language": "python",
     "metadata": {},
     "outputs": [],
     "prompt_number": 2
    },
    {
     "cell_type": "code",
     "collapsed": false,
     "input": [
      "vc = cv2.VideoCapture(filename_mov)\n",
      "vc.isOpened()"
     ],
     "language": "python",
     "metadata": {},
     "outputs": [
      {
       "metadata": {},
       "output_type": "pyout",
       "prompt_number": 3,
       "text": [
        "True"
       ]
      }
     ],
     "prompt_number": 3
    },
    {
     "cell_type": "code",
     "collapsed": false,
     "input": [
      "def get_frame(i):\n",
      "    vc.set(cv.CV_CAP_PROP_POS_FRAMES, i)\n",
      "    ret, img = vc.read()\n",
      "    return img"
     ],
     "language": "python",
     "metadata": {},
     "outputs": [],
     "prompt_number": 4
    },
    {
     "cell_type": "code",
     "collapsed": false,
     "input": [
      "def show_frame(f):\n",
      "    cv2.imshow('detection', f)\n",
      "    "
     ],
     "language": "python",
     "metadata": {},
     "outputs": [],
     "prompt_number": 17
    },
    {
     "cell_type": "code",
     "collapsed": false,
     "input": [
      "# cv2.namedWindow('detection', cv2.CV_WINDOW_AUTOSIZE)\n",
      "show_frame(get_frame(300))"
     ],
     "language": "python",
     "metadata": {},
     "outputs": [
      {
       "output_type": "stream",
       "stream": "stdout",
       "text": [
        "[[[  9  51 163]\n",
        "  [  9  51 163]\n",
        "  [ 10  52 163]\n",
        "  ..., \n",
        "  [ 45  61  98]\n",
        "  [ 48  62  99]\n",
        "  [ 50  64 101]]\n",
        "\n",
        " [[  9  51 163]\n",
        "  [  9  51 163]\n",
        "  [ 10  52 163]\n",
        "  ..., \n",
        "  [ 43  59  96]\n",
        "  [ 45  59  96]\n",
        "  [ 48  62  99]]\n",
        "\n",
        " [[ 10  51 159]\n",
        "  [ 10  51 159]\n",
        "  [ 11  52 158]\n",
        "  ..., \n",
        "  [ 46  58  95]\n",
        "  [ 47  57  94]\n",
        "  [ 46  56  93]]\n",
        "\n",
        " ..., \n",
        " [[ 21  29  54]\n",
        "  [ 20  28  53]\n",
        "  [ 17  25  50]\n",
        "  ..., \n",
        "  [125 135 131]\n",
        "  [125 135 131]\n",
        "  [125 135 131]]\n",
        "\n",
        " [[ 20  29  51]\n",
        "  [ 18  27  49]\n",
        "  [ 17  26  48]\n",
        "  ..., \n",
        "  [124 134 130]\n",
        "  [124 134 130]\n",
        "  [124 134 130]]\n",
        "\n",
        " [[ 14  23  45]\n",
        "  [ 14  23  45]\n",
        "  [ 14  23  45]\n",
        "  ..., \n",
        "  [125 135 131]\n",
        "  [124 134 130]\n",
        "  [124 134 130]]]\n"
       ]
      }
     ],
     "prompt_number": 21
    },
    {
     "cell_type": "code",
     "collapsed": false,
     "input": [
      "cam = cv2.VideoCapture(filename_mov)            \n",
      "while True:\n",
      "    ret, img = cam.read()                      \n",
      "    if (type(img) == type(None)):\n",
      "        break\n",
      "\n",
      "    cv2.imshow('detection', img)\n",
      "    if (0xFF & cv2.waitKey(20) == 27) or img.size == 0:\n",
      "        break"
     ],
     "language": "python",
     "metadata": {},
     "outputs": [],
     "prompt_number": 15
    },
    {
     "cell_type": "code",
     "collapsed": false,
     "input": [
      "def onMouse(event, x, y, thing=None, thing2=None):\n",
      "    print x\n",
      "    \n",
      "cv.SetMouseCallback('detection', onMouse)\n",
      "show_frame(get_frame(300))"
     ],
     "language": "python",
     "metadata": {},
     "outputs": [
      {
       "output_type": "stream",
       "stream": "stdout",
       "text": [
        "[[[  9  51 163]\n",
        "  [  9  51 163]\n",
        "  [ 10  52 163]\n",
        "  ..., \n",
        "  [ 45  61  98]\n",
        "  [ 48  62  99]\n",
        "  [ 50  64 101]]\n",
        "\n",
        " [[  9  51 163]\n",
        "  [  9  51 163]\n",
        "  [ 10  52 163]\n",
        "  ..., \n",
        "  [ 43  59  96]\n",
        "  [ 45  59  96]\n",
        "  [ 48  62  99]]\n",
        "\n",
        " [[ 10  51 159]\n",
        "  [ 10  51 159]\n",
        "  [ 11  52 158]\n",
        "  ..., \n",
        "  [ 46  58  95]\n",
        "  [ 47  57  94]\n",
        "  [ 46  56  93]]\n",
        "\n",
        " ..., \n",
        " [[ 21  29  54]\n",
        "  [ 20  28  53]\n",
        "  [ 17  25  50]\n",
        "  ..., \n",
        "  [125 135 131]\n",
        "  [125 135 131]\n",
        "  [125 135 131]]\n",
        "\n",
        " [[ 20  29  51]\n",
        "  [ 18  27  49]\n",
        "  [ 17  26  48]\n",
        "  ..., \n",
        "  [124 134 130]\n",
        "  [124 134 130]\n",
        "  [124 134 130]]\n",
        "\n",
        " [[ 14  23  45]\n",
        "  [ 14  23  45]\n",
        "  [ 14  23  45]\n",
        "  ..., \n",
        "  [125 135 131]\n",
        "  [124 134 130]\n",
        "  [124 134 130]]]\n"
       ]
      }
     ],
     "prompt_number": 27
    },
    {
     "cell_type": "code",
     "collapsed": false,
     "input": [
      "cv2.destroyAllWindows()"
     ],
     "language": "python",
     "metadata": {},
     "outputs": [],
     "prompt_number": 25
    },
    {
     "cell_type": "code",
     "collapsed": false,
     "input": [
      "import numpy as np \n",
      "while True:\n",
      "    print \"here\"\n",
      "    ret, img = cam.read()  \n",
      "    gray = cv2.cvtColor(img,cv2.COLOR_BGR2GRAY)\n",
      "\n",
      "    gray = np.float32(gray)\n",
      "    dst = cv2.cornerHarris(gray,2,3,0.04)\n",
      "\n",
      "while(cap.isOpened()):\n",
      "    ret, frame = cap.read()\n",
      "    \n",
      "    if frame is None:\n",
      "        continue\n",
      "        \n",
      "    print \"yes!\"\n",
      "\n",
      "    gray = cv2.cvtColor(frame, cv2.COLOR_BGR2GRAY)\n",
      "\n",
      "    cv2.imshow('frame',gray)\n",
      "    if cv2.waitKey(1) & 0xFF == ord('q'):\n",
      "        break\n"
     ],
     "language": "python",
     "metadata": {},
     "outputs": [],
     "prompt_number": "*"
    },
    {
     "cell_type": "code",
     "collapsed": false,
     "input": [
      "import cv2\n",
      "capture = cv2.VideoCapture(filename)\n",
      "while True:\n",
      "    ret, img = capture.read()\n",
      "\n",
      "#    result = processFrame(img)\n",
      "\n",
      "    cv2.imshow('some', result)\n",
      "    if 0xFF & cv2.waitKey(5) == 27:\n",
      "        break\n",
      "cv2.destroyAllWindows()"
     ],
     "language": "python",
     "metadata": {},
     "outputs": [],
     "prompt_number": "*"
    },
    {
     "cell_type": "code",
     "collapsed": false,
     "input": [],
     "language": "python",
     "metadata": {},
     "outputs": []
    }
   ],
   "metadata": {}
  }
 ]
}